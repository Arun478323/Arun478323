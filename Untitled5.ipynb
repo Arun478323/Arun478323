{
  "nbformat": 4,
  "nbformat_minor": 0,
  "metadata": {
    "colab": {
      "provenance": [],
      "authorship_tag": "ABX9TyNqn1rb4Q5b0PNuO4LddpH2",
      "include_colab_link": true
    },
    "kernelspec": {
      "name": "python3",
      "display_name": "Python 3"
    },
    "language_info": {
      "name": "python"
    }
  },
  "cells": [
    {
      "cell_type": "markdown",
      "metadata": {
        "id": "view-in-github",
        "colab_type": "text"
      },
      "source": [
        "<a href=\"https://colab.research.google.com/github/Arun478323/Arun478323/blob/main/Untitled5.ipynb\" target=\"_parent\"><img src=\"https://colab.research.google.com/assets/colab-badge.svg\" alt=\"Open In Colab\"/></a>"
      ]
    },
    {
      "cell_type": "code",
      "execution_count": 7,
      "metadata": {
        "colab": {
          "base_uri": "https://localhost:8080/"
        },
        "id": "AmCnyffd9RmE",
        "outputId": "5853fd4c-ea18-4290-db60-f30cd36a0749"
      },
      "outputs": [
        {
          "output_type": "stream",
          "name": "stdout",
          "text": [
            "enter your marks34\n",
            "fail\n"
          ]
        }
      ],
      "source": [
        "A=int(input(\"enter your marks\"))\n",
        "if(A<35):\n",
        "   print(\"fail\")\n",
        "elif(A<60):\n",
        "   print(\"C grade\")\n",
        "elif(A<80):\n",
        "   print(\"B grade\")\n",
        "elif(A<100):\n",
        "   print(\"A grade\")\n",
        "else:\n",
        "   print(\"wrong input\")"
      ]
    }
  ]
}