{
  "nbformat": 4,
  "nbformat_minor": 0,
  "metadata": {
    "colab": {
      "provenance": [],
      "authorship_tag": "ABX9TyM4s4Jxdvmx+InGVTYq3N7Q",
      "include_colab_link": true
    },
    "kernelspec": {
      "name": "python3",
      "display_name": "Python 3"
    },
    "language_info": {
      "name": "python"
    }
  },
  "cells": [
    {
      "cell_type": "markdown",
      "metadata": {
        "id": "view-in-github",
        "colab_type": "text"
      },
      "source": [
        "<a href=\"https://colab.research.google.com/github/Arun478323/Arun478323/blob/main/Untitled0.ipynb\" target=\"_parent\"><img src=\"https://colab.research.google.com/assets/colab-badge.svg\" alt=\"Open In Colab\"/></a>"
      ]
    },
    {
      "cell_type": "code",
      "execution_count": null,
      "metadata": {
        "colab": {
          "base_uri": "https://localhost:8080/"
        },
        "id": "7nCm-mhcoOTd",
        "outputId": "515dffd8-02e1-410f-82cc-c08f2c787c1f"
      },
      "outputs": [
        {
          "output_type": "stream",
          "name": "stdout",
          "text": [
            "helloword\n"
          ]
        }
      ],
      "source": [
        "print(\"helloword\")"
      ]
    },
    {
      "cell_type": "code",
      "source": [
        "A = int(input(\"Enter the number\"))\n",
        "if (A%2==0):\n",
        "      print(\"even\")\n",
        "else:\n",
        "      print(\"Odd\")"
      ],
      "metadata": {
        "colab": {
          "base_uri": "https://localhost:8080/"
        },
        "id": "hhvjgyAipXe2",
        "outputId": "70f93022-8919-4f6d-dfa3-6649a59ba019"
      },
      "execution_count": null,
      "outputs": [
        {
          "output_type": "stream",
          "name": "stdout",
          "text": [
            "Enter the number45\n",
            "Odd\n"
          ]
        }
      ]
    },
    {
      "cell_type": "markdown",
      "source": [
        "print(\"gurubhai\")"
      ],
      "metadata": {
        "id": "PEIZ-2VHpcjO"
      }
    }
  ]
}