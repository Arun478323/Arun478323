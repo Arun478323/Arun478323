{
  "nbformat": 4,
  "nbformat_minor": 0,
  "metadata": {
    "colab": {
      "provenance": [],
      "authorship_tag": "ABX9TyNrAhhkoXz4jPQhLVezyjnC",
      "include_colab_link": true
    },
    "kernelspec": {
      "name": "python3",
      "display_name": "Python 3"
    },
    "language_info": {
      "name": "python"
    }
  },
  "cells": [
    {
      "cell_type": "markdown",
      "metadata": {
        "id": "view-in-github",
        "colab_type": "text"
      },
      "source": [
        "<a href=\"https://colab.research.google.com/github/Arun478323/Arun478323/blob/main/Untitled9.ipynb\" target=\"_parent\"><img src=\"https://colab.research.google.com/assets/colab-badge.svg\" alt=\"Open In Colab\"/></a>"
      ]
    },
    {
      "cell_type": "code",
      "execution_count": 1,
      "metadata": {
        "colab": {
          "base_uri": "https://localhost:8080/"
        },
        "id": "vzpcchVsP1YH",
        "outputId": "6531c998-d2fd-4130-b079-292e099c782d"
      },
      "outputs": [
        {
          "output_type": "stream",
          "name": "stdout",
          "text": [
            "Enter password: python123\n",
            "Access granted!\n"
          ]
        }
      ],
      "source": [
        "\n",
        "# Password checker\n",
        "password = \"\"\n",
        "while password != \"python123\":\n",
        "    password = input(\"Enter password: \")\n",
        "print(\"Access granted!\")"
      ]
    },
    {
      "cell_type": "code",
      "source": [
        "# Print each student name\n",
        "students = [\"Alex\", \"Taylor\", \"Jordan\"]\n",
        "for student in students:\n",
        "    print(student)\n",
        "\n",
        "# Calculate total marks\n",
        "marks = [85, 92, 78, 90]\n",
        "total = 0\n",
        "for mark in marks:\n",
        "    total += mark\n",
        "print(\"Total:\", total)"
      ],
      "metadata": {
        "colab": {
          "base_uri": "https://localhost:8080/"
        },
        "id": "R2Vi0EqyQM1l",
        "outputId": "2c829d93-d266-4f98-f5a5-0939a5c97816"
      },
      "execution_count": 4,
      "outputs": [
        {
          "output_type": "stream",
          "name": "stdout",
          "text": [
            "Alex\n",
            "Taylor\n",
            "Jordan\n",
            "Total: 345\n"
          ]
        }
      ]
    },
    {
      "cell_type": "code",
      "source": [
        "A=str(input (\"Enter the operator\"))\n",
        "num1=int(input (\"Enter the first number\"))\n",
        "num2=int(input (\"Enter the second number\"))\n",
        "if (A==\"+\"):\n",
        "    R1= num1+num2\n",
        "    print(R1)\n",
        "elif (A==\"-\"):\n",
        "      R2= num1-num2\n",
        "      print(R2)\n",
        "elif (A==\"-\"):\n",
        "     R3= num1*num2\n",
        "     print(R3)\n",
        "elif (A==\"/\"):\n",
        "     R4= num1/num2\n",
        "     print(R4)"
      ],
      "metadata": {
        "id": "vJI1FOdxQXcl"
      },
      "execution_count": null,
      "outputs": []
    },
    {
      "cell_type": "code",
      "source": [
        "# Print each student name\n",
        "students = [\"Alex\", \"Taylor\", \"Jordan\"]\n",
        "for student in students:\n",
        "    print(student)\n",
        "\n",
        "# Calculate total marks\n",
        "marks = [85, 92, 78, 90]\n",
        "total = 0\n",
        "for mark in marks:\n",
        "    total += mark\n",
        "print(\"Total:\", total)"
      ],
      "metadata": {
        "colab": {
          "base_uri": "https://localhost:8080/"
        },
        "id": "ifqzeMa2QQor",
        "outputId": "328444c0-8479-4386-c118-13ce9494a4d2"
      },
      "execution_count": 3,
      "outputs": [
        {
          "output_type": "stream",
          "name": "stdout",
          "text": [
            "Alex\n",
            "Taylor\n",
            "Jordan\n",
            "Total: 345\n"
          ]
        }
      ]
    }
  ]
}